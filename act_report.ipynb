{
 "cells": [
  {
   "cell_type": "markdown",
   "metadata": {
    "collapsed": true
   },
   "source": [
    "# Data Wrangling Project\n",
    "\n",
    "In this report, my goal is to analyze the cleaned twitter data from the tweet archive of Twitter account WeRateDogs. WeRateDogs is a Twitter account that rates people's dogs with a text comment about the dog. From Udacity, I got WeRateDogs Twitter archive's basic tweets data. To create interesting analyses and visualizations, I did additional gathering of data via twitter API and Image Predicitions File (provided by Udacity). Then I cleaned this data and stored it. I will load this stored clean data and analyze it in this report. "
   ]
  },
  {
   "cell_type": "markdown",
   "metadata": {},
   "source": [
    "# Analysis & Visualization\n",
    "I will load the cleaned data and analyze it in following ways:\n",
    "- Compare 'name' column for cleaned data vs original data\n",
    "- Analyze Ratings for the cleaned data\n",
    "- Study relationship between ratings and favorite_count for the cleaned data\n",
    "- Study relationship between ratings and retweet_count for the cleaned data"
   ]
  },
  {
   "cell_type": "code",
   "execution_count": 1,
   "metadata": {
    "tags": [
     "remove_input_tags"
    ]
   },
   "outputs": [],
   "source": [
    "import pandas as pd\n",
    "import requests\n",
    "import json\n",
    "import numpy as np\n",
    "%matplotlib inline"
   ]
  },
  {
   "cell_type": "markdown",
   "metadata": {},
   "source": [
    "### 1. Compare 'name' column for cleaned data vs original data"
   ]
  },
  {
   "cell_type": "markdown",
   "metadata": {},
   "source": [
    "#### Load Clean data\n"
   ]
  },
  {
   "cell_type": "code",
   "execution_count": 2,
   "metadata": {
    "tags": [
     "remove_input_tags"
    ]
   },
   "outputs": [
    {
     "name": "stdout",
     "output_type": "stream",
     "text": [
      "Finished loading and printing info:\n",
      "<class 'pandas.core.frame.DataFrame'>\n",
      "RangeIndex: 2175 entries, 0 to 2174\n",
      "Data columns (total 31 columns):\n",
      "Unnamed: 0                    2175 non-null int64\n",
      "tweet_id                      2175 non-null int64\n",
      "in_reply_to_status_id         78 non-null float64\n",
      "in_reply_to_user_id           78 non-null float64\n",
      "timestamp                     2175 non-null object\n",
      "source                        2175 non-null object\n",
      "text                          2175 non-null object\n",
      "retweeted_status_id           0 non-null float64\n",
      "retweeted_status_user_id      0 non-null float64\n",
      "retweeted_status_timestamp    0 non-null float64\n",
      "expanded_urls                 2117 non-null object\n",
      "rating_numerator              2174 non-null float64\n",
      "rating_denominator            2174 non-null float64\n",
      "name                          2175 non-null object\n",
      "doggo                         2175 non-null object\n",
      "floofer                       2175 non-null object\n",
      "pupper                        2175 non-null object\n",
      "puppo                         2175 non-null object\n",
      "jpg_url                       1994 non-null object\n",
      "img_num                       1994 non-null float64\n",
      "p1                            1994 non-null object\n",
      "p1_conf                       1994 non-null float64\n",
      "p1_dog                        1994 non-null object\n",
      "p2                            1994 non-null object\n",
      "p2_conf                       1994 non-null float64\n",
      "p2_dog                        1994 non-null object\n",
      "p3                            1994 non-null object\n",
      "p3_conf                       1994 non-null float64\n",
      "p3_dog                        1994 non-null object\n",
      "favorite_count                2175 non-null int64\n",
      "retweet_count                 2175 non-null int64\n",
      "dtypes: float64(11), int64(4), object(16)\n",
      "memory usage: 526.8+ KB\n"
     ]
    }
   ],
   "source": [
    "df_clean = pd.read_csv('twitter_archive_master.csv')\n",
    "print(\"Finished loading and printing info:\")\n",
    "df_clean.info()"
   ]
  },
  {
   "cell_type": "markdown",
   "metadata": {},
   "source": [
    "#### Analyze column 'name' for Cleaned data"
   ]
  },
  {
   "cell_type": "code",
   "execution_count": 3,
   "metadata": {
    "tags": [
     "remove_input_tags"
    ]
   },
   "outputs": [
    {
     "name": "stdout",
     "output_type": "stream",
     "text": [
      "Number of 'None' names (numerator): 714\n"
     ]
    }
   ],
   "source": [
    "# Number of None names (numerator)\n",
    "None_counts = df_clean.name.value_counts()['None']\n",
    "print(\"Number of 'None' names (numerator): {}\".format(None_counts))"
   ]
  },
  {
   "cell_type": "code",
   "execution_count": 4,
   "metadata": {
    "tags": [
     "remove_input_tags"
    ]
   },
   "outputs": [
    {
     "name": "stdout",
     "output_type": "stream",
     "text": [
      "Number of non-empty names (denominator): 2175\n"
     ]
    }
   ],
   "source": [
    "# Number of non-empty names (denominator)\n",
    "non_empty_counts = df_clean.name.count()\n",
    "print(\"Number of non-empty names (denominator): {}\".format(non_empty_counts))"
   ]
  },
  {
   "cell_type": "code",
   "execution_count": 5,
   "metadata": {
    "tags": [
     "remove_input_tags"
    ]
   },
   "outputs": [
    {
     "name": "stdout",
     "output_type": "stream",
     "text": [
      "Percentage of None names i.e. no meaningful name: 0.32827586206896553\n"
     ]
    }
   ],
   "source": [
    "# Percentage of None names i.e. no meaningful name\n",
    "print(\"Percentage of None names i.e. no meaningful name: {}\".format(None_counts / non_empty_counts))"
   ]
  },
  {
   "cell_type": "code",
   "execution_count": 6,
   "metadata": {
    "tags": [
     "remove_input_tags"
    ]
   },
   "outputs": [
    {
     "name": "stdout",
     "output_type": "stream",
     "text": [
      "Top 8 most common occuring names for cleaned data\n"
     ]
    },
    {
     "data": {
      "image/png": "[encoded data removed]",
      "text/plain": [
       "<matplotlib.figure.Figure at 0x7f7921ff11d0>"
      ]
     },
     "metadata": {},
     "output_type": "display_data"
    }
   ],
   "source": [
    "labels = np.full(len(df_clean.name.value_counts()), \"\", dtype=object)\n",
    "print(\"Top 8 most common occuring names for cleaned data\")\n",
    "plot1 = df_clean.name.value_counts()[:8].plot(kind=\"pie\")"
   ]
  },
  {
   "cell_type": "markdown",
   "metadata": {},
   "source": [
    "#### Load Original data"
   ]
  },
  {
   "cell_type": "code",
   "execution_count": 7,
   "metadata": {
    "tags": [
     "remove_input_tags"
    ]
   },
   "outputs": [
    {
     "name": "stdout",
     "output_type": "stream",
     "text": [
      "Top 8 most common occuring names for original data\n"
     ]
    },
    {
     "data": {
      "image/png": "[encoded data removed]",
      "text/plain": [
       "<matplotlib.figure.Figure at 0x7f791f5d4cc0>"
      ]
     },
     "metadata": {},
     "output_type": "display_data"
    }
   ],
   "source": [
    "twitterarchiveenhanced = pd.read_csv('twitter-archive-enhanced.csv')\n",
    "labels = np.full(len(twitterarchiveenhanced.name.value_counts()), \"\", dtype=object)\n",
    "labels[0] = None\n",
    "print(\"Top 8 most common occuring names for original data\")\n",
    "plot2 = twitterarchiveenhanced.name.value_counts()[:8].plot(kind=\"pie\")"
   ]
  },
  {
   "cell_type": "markdown",
   "metadata": {},
   "source": [
    "#### Conclusion: Cleaned data is able to remove irrelevant names such as 'a' and we can see more relevant names in top 8 most common names"
   ]
  },
  {
   "cell_type": "markdown",
   "metadata": {},
   "source": [
    "### 2. Analyze Ratings for the cleaned data"
   ]
  },
  {
   "cell_type": "code",
   "execution_count": 8,
   "metadata": {
    "tags": [
     "remove_input_tags"
    ]
   },
   "outputs": [],
   "source": [
    "df_clean['ratings'] = df_clean['rating_numerator'] / df_clean['rating_denominator']"
   ]
  },
  {
   "cell_type": "code",
   "execution_count": 9,
   "metadata": {
    "tags": [
     "remove_input_tags"
    ]
   },
   "outputs": [
    {
     "name": "stdout",
     "output_type": "stream",
     "text": [
      "Ratings values: \n",
      "265       0.000000\n",
      "840       0.000000\n",
      "1761      0.100000\n",
      "2080      0.100000\n",
      "1912      0.100000\n",
      "1690      0.100000\n",
      "1267      0.100000\n",
      "1859      0.100000\n",
      "2157      0.100000\n",
      "2058      0.200000\n",
      "1582      0.200000\n",
      "1585      0.200000\n",
      "987       0.200000\n",
      "1741      0.200000\n",
      "2129      0.200000\n",
      "2145      0.200000\n",
      "2067      0.200000\n",
      "2168      0.200000\n",
      "1900      0.200000\n",
      "1419      0.200000\n",
      "2023      0.300000\n",
      "1422      0.300000\n",
      "2004      0.300000\n",
      "618       0.300000\n",
      "1657      0.300000\n",
      "1768      0.300000\n",
      "1070      0.300000\n",
      "1749      0.300000\n",
      "1759      0.300000\n",
      "1957      0.300000\n",
      "           ...    \n",
      "70        1.400000\n",
      "161       1.400000\n",
      "160       1.400000\n",
      "180       1.400000\n",
      "105       1.400000\n",
      "61        1.400000\n",
      "183       1.400000\n",
      "159       1.400000\n",
      "352       1.400000\n",
      "357       1.400000\n",
      "98        1.400000\n",
      "753       1.400000\n",
      "313       1.400000\n",
      "310       1.400000\n",
      "875       1.400000\n",
      "529       1.400000\n",
      "53        1.400000\n",
      "38        1.400000\n",
      "247       1.500000\n",
      "52        1.700000\n",
      "1533      2.600000\n",
      "617       2.700000\n",
      "429       3.428571\n",
      "558       7.500000\n",
      "246      18.200000\n",
      "1895     42.000000\n",
      "162      42.000000\n",
      "163      66.600000\n",
      "804     177.600000\n",
      "287            NaN\n",
      "Name: ratings, Length: 2175, dtype: float64\n"
     ]
    }
   ],
   "source": [
    "print(\"Ratings values: \")\n",
    "print(df_clean['ratings'].sort_values())"
   ]
  },
  {
   "cell_type": "code",
   "execution_count": 10,
   "metadata": {
    "scrolled": true,
    "tags": [
     "remove_input_tags"
    ]
   },
   "outputs": [
    {
     "name": "stdout",
     "output_type": "stream",
     "text": [
      "Histogram of ratings\n"
     ]
    },
    {
     "data": {
      "image/png": "[encoded data removed]",
      "text/plain": [
       "<matplotlib.figure.Figure at 0x7f7922474e48>"
      ]
     },
     "metadata": {
      "needs_background": "light"
     },
     "output_type": "display_data"
    }
   ],
   "source": [
    "# Plot histogram of ratings\n",
    "print(\"Histogram of ratings\")\n",
    "plot3 = df_clean['ratings'].hist()"
   ]
  },
  {
   "cell_type": "code",
   "execution_count": 11,
   "metadata": {
    "tags": [
     "remove_input_tags"
    ]
   },
   "outputs": [
    {
     "name": "stdout",
     "output_type": "stream",
     "text": [
      "Difference between mean and median ratings: 0.12384228007503051\n"
     ]
    }
   ],
   "source": [
    "diff_value = df_clean['ratings'].mean() - df_clean['ratings'].median()\n",
    "print(\"Difference between mean and median ratings: {}\".format(diff_value))"
   ]
  },
  {
   "cell_type": "code",
   "execution_count": 12,
   "metadata": {
    "tags": [
     "remove_input_tags"
    ]
   },
   "outputs": [
    {
     "name": "stdout",
     "output_type": "stream",
     "text": [
      "Histogram of ratings removing outliers\n"
     ]
    },
    {
     "data": {
      "image/png": "[encoded data removed]",
      "text/plain": [
       "<matplotlib.figure.Figure at 0x7f7921ec8f28>"
      ]
     },
     "metadata": {
      "needs_background": "light"
     },
     "output_type": "display_data"
    }
   ],
   "source": [
    "# Plot histogram of ratings removing outliers\n",
    "print(\"Histogram of ratings removing outliers\")\n",
    "plot4 = df_clean['ratings'][df_clean['ratings'] < 7].hist()"
   ]
  },
  {
   "cell_type": "code",
   "execution_count": 13,
   "metadata": {
    "tags": [
     "remove_input_tags"
    ]
   },
   "outputs": [
    {
     "name": "stdout",
     "output_type": "stream",
     "text": [
      "Difference between mean and median ratings after removing outliers: -0.036008709924761684\n"
     ]
    }
   ],
   "source": [
    "diff_value = df_clean['ratings'][df_clean['ratings'] < 7].mean() - df_clean['ratings'][df_clean['ratings'] < 7].median()\n",
    "print(\"Difference between mean and median ratings after removing outliers: {}\".format(diff_value))"
   ]
  },
  {
   "cell_type": "markdown",
   "metadata": {},
   "source": [
    "#### Conclusion: Outlier rating values larger than 7 (7 such values out of total 2175 ratings) make the ratings distribution skewed to the right. Without these outliers, ratings distribution is slightly left skewed."
   ]
  },
  {
   "cell_type": "markdown",
   "metadata": {},
   "source": [
    "### 3. Study relationship between ratings and favorite_count for the cleaned data"
   ]
  },
  {
   "cell_type": "markdown",
   "metadata": {},
   "source": [
    "#### Scatterplots of Rating Against Favorite_Count"
   ]
  },
  {
   "cell_type": "code",
   "execution_count": 14,
   "metadata": {
    "tags": [
     "remove_input_tags"
    ]
   },
   "outputs": [
    {
     "data": {
      "image/png": "[encoded data removed]",
      "text/plain": [
       "<matplotlib.figure.Figure at 0x7f7921e0acc0>"
      ]
     },
     "metadata": {
      "needs_background": "light"
     },
     "output_type": "display_data"
    }
   ],
   "source": [
    "df_clean = df_clean[(df_clean['ratings'] < 7)]\n",
    "plot5 = df_clean.plot(x = 'favorite_count', y = 'ratings', kind = 'scatter')"
   ]
  },
  {
   "cell_type": "code",
   "execution_count": 15,
   "metadata": {
    "tags": [
     "remove_input_tags"
    ]
   },
   "outputs": [
    {
     "name": "stdout",
     "output_type": "stream",
     "text": [
      "Correlation between ratings and favorite_count: 0.3619254473141308\n"
     ]
    }
   ],
   "source": [
    "print(\"Correlation between ratings and favorite_count: {}\".format(df_clean['ratings'].corr(df_clean['favorite_count'])))"
   ]
  },
  {
   "cell_type": "markdown",
   "metadata": {},
   "source": [
    "#### Conclusion: Ratings and Favorite count have a positive relationship: Higher favorite count generally has higher rating. This can also be seen in positive correlation value between ratings and favorite_count: 0.266\n"
   ]
  },
  {
   "cell_type": "markdown",
   "metadata": {},
   "source": [
    "### 4. Study relationship between ratings and retweet_count for the cleaned data"
   ]
  },
  {
   "cell_type": "markdown",
   "metadata": {},
   "source": [
    "#### Scatterplot of Ratings Against Retweet_Count"
   ]
  },
  {
   "cell_type": "code",
   "execution_count": 16,
   "metadata": {
    "tags": [
     "remove_input_tags"
    ]
   },
   "outputs": [
    {
     "data": {
      "image/png": "[encoded data removed]",
      "text/plain": [
       "<matplotlib.figure.Figure at 0x7f7921de74e0>"
      ]
     },
     "metadata": {
      "needs_background": "light"
     },
     "output_type": "display_data"
    }
   ],
   "source": [
    "plot6 = df_clean.plot(x = 'retweet_count', y = 'ratings', kind = 'scatter')"
   ]
  },
  {
   "cell_type": "code",
   "execution_count": 17,
   "metadata": {
    "tags": [
     "remove_input_tags"
    ]
   },
   "outputs": [
    {
     "name": "stdout",
     "output_type": "stream",
     "text": [
      "Correlation between ratings and retweet_count: 0.2732027815178464\n"
     ]
    }
   ],
   "source": [
    "print(\"Correlation between ratings and retweet_count: {}\".format(df_clean['ratings'].corr(df_clean['retweet_count'])))"
   ]
  },
  {
   "cell_type": "markdown",
   "metadata": {},
   "source": [
    "#### Conclusion: Ratings and retweet count have a positive relationship: Higher tweet count generally has higher rating. This can also be seen in positive correlation value between ratings and retweet_count: 0.208"
   ]
  },
  {
   "cell_type": "code",
   "execution_count": 18,
   "metadata": {
    "tags": [
     "remove_input_tags"
    ]
   },
   "outputs": [],
   "source": [
    "# jupyter nbconvert act_report.ipynb --TagRemovePreprocessor.remove_input_tags='{\"remove_input_tags\"}'\n",
    "# Source: https://stackoverflow.com/questions/31517194/how-to-hide-one-specific-cell-input-or-output-in-ipython-notebook"
   ]
  },
  {
   "cell_type": "markdown",
   "metadata": {},
   "source": [
    "#### References:\n",
    "- Udacity Project Overview\n",
    "- https://stackoverflow.com/questions/31517194/how-to-hide-one-specific-cell-input-or-output-in-ipython-notebook"
   ]
  },
  {
   "cell_type": "code",
   "execution_count": null,
   "metadata": {},
   "outputs": [],
   "source": []
  }
 ],
 "metadata": {
  "celltoolbar": "Tags",
  "kernelspec": {
   "display_name": "Python 3",
   "language": "python",
   "name": "python3"
  },
  "language_info": {
   "codemirror_mode": {
    "name": "ipython",
    "version": 3
   },
   "file_extension": ".py",
   "mimetype": "text/x-python",
   "name": "python",
   "nbconvert_exporter": "python",
   "pygments_lexer": "ipython3",
   "version": "3.6.3"
  }
 },
 "nbformat": 4,
 "nbformat_minor": 2
}
