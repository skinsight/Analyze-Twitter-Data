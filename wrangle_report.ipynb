{
 "cells": [
  {
   "cell_type": "markdown",
   "metadata": {
    "collapsed": true
   },
   "source": [
    "# Data Wrangling Project\n",
    "\n",
    "In this report, my goal is to gather, assess, clean and store the twitter data from the tweet archive of Twitter account WeRateDogs. WeRateDogs is a Twitter account that rates people's dogs with a text comment about the dog. From Udacity, I got WeRateDogs Twitter archive's basic tweets data. To study interesting relationships, I did additional gathering of data via twitter API and Image Predicitions File. Then I assessed and cleaned this data and then stored it. I will show my steps of data wrangling in this report. "
   ]
  },
  {
   "cell_type": "markdown",
   "metadata": {},
   "source": [
    "## 1. Gather"
   ]
  },
  {
   "cell_type": "code",
   "execution_count": 1,
   "metadata": {
    "tags": [
     "remove_input_tags",
     "remove_all_outputs_tags"
    ]
   },
   "outputs": [],
   "source": [
    "import pandas as pd\n",
    "import requests\n",
    "import json\n",
    "import numpy as np\n",
    "%matplotlib inline"
   ]
  },
  {
   "cell_type": "markdown",
   "metadata": {},
   "source": [
    "#### Gather twitter-archive-enhanced.csv"
   ]
  },
  {
   "cell_type": "code",
   "execution_count": 2,
   "metadata": {
    "scrolled": true
   },
   "outputs": [],
   "source": [
    "twitterarchiveenhanced = pd.read_csv('twitter-archive-enhanced.csv')"
   ]
  },
  {
   "cell_type": "markdown",
   "metadata": {},
   "source": [
    "#### Gather image-predictions.tsv"
   ]
  },
  {
   "cell_type": "code",
   "execution_count": 3,
   "metadata": {
    "scrolled": true
   },
   "outputs": [],
   "source": [
    "url = \"https://d17h27t6h515a5.cloudfront.net/topher/2017/August/599fd2ad_image-predictions/image-predictions.tsv\"\n",
    "response = requests.get(url)\n",
    "response.content\n",
    "with open(url.split('/')[-1], 'wb') as file:\n",
    "    file.write(response.content)\n",
    "imagepredict = pd.read_csv('image-predictions.tsv', sep = '\\t')"
   ]
  },
  {
   "cell_type": "markdown",
   "metadata": {},
   "source": [
    "#### Gather twitter json txt file"
   ]
  },
  {
   "cell_type": "markdown",
   "metadata": {
    "tags": [
     "remove_input_tags"
    ]
   },
   "source": [
    "Query Twitter API for each tweet in the Twitter archive and save JSON in a text file"
   ]
  },
  {
   "cell_type": "code",
   "execution_count": 4,
   "metadata": {},
   "outputs": [],
   "source": [
    "url = \"https://s3.amazonaws.com/video.udacity-data.com/topher/2018/November/5be5fb7d_tweet-json/tweet-json.txt\"\n",
    "response = requests.get(url)\n",
    "response.content\n",
    "with open(url.split('/')[-1], 'wb') as file:\n",
    "    file.write(response.content)"
   ]
  },
  {
   "cell_type": "code",
   "execution_count": 5,
   "metadata": {},
   "outputs": [],
   "source": [
    "with open('tweet-json.txt') as file:\n",
    "    status_list = []\n",
    "    for line in file:\n",
    "        #print(line)\n",
    "        status_list.append(json.loads(line))"
   ]
  },
  {
   "cell_type": "code",
   "execution_count": 6,
   "metadata": {
    "scrolled": true
   },
   "outputs": [],
   "source": [
    "tweetjson = pd.DataFrame(status_list)"
   ]
  },
  {
   "cell_type": "code",
   "execution_count": 7,
   "metadata": {},
   "outputs": [],
   "source": [
    "tweetjson = tweetjson[['id', 'favorite_count', 'retweet_count']]"
   ]
  },
  {
   "cell_type": "markdown",
   "metadata": {},
   "source": [
    "#### Conclusion: I was able to gather the data from 3 different sources succesfully."
   ]
  },
  {
   "cell_type": "markdown",
   "metadata": {},
   "source": [
    "## 2. Assess\n",
    "\n",
    "I assessed the 3 dataframes both visually and programmatically."
   ]
  },
  {
   "cell_type": "markdown",
   "metadata": {},
   "source": [
    "I found the following issues:\n",
    "\n",
    "### Quality Issues\n",
    "twitterarchiveenhanced dataframe:\n",
    "- Missing values in expanded_urls\n",
    "- \"None\" in the name column look to be a missing name\n",
    "- \"a\" in the name column does not look to be a correct name\n",
    "- \"the\" in the name column does not look to be a correct name\n",
    "- \"an\" in the name column does not look to be a correct name\n",
    "- \"quite\" in the name column does not look to be a correct name. It is providing name from the tweet for tweet id 859196978902773760.\n",
    "- tweet_id 666287406224695296, has text: This is an Albanian 3 1/2 legged  Episcopalian. Loves well-polished hardwood flooring. Penis on the collar. 9/10 https://t.co/d9NcXFKwLv. But the rating is given as 1/2 instead of 9/10.\n",
    "- tweet_id 832088576586297345, has text: \"@docmisterio account started on 11/15/15\". The rating is given as 11/15 instead of NaN.\n",
    "- tweet_id 835246439529840640, has text: \"@jonnysun @Lin_Manuel ok jomny I know you're excited but 960/00 isn't a valid rating, 13/10 is tho\". But the rating is given as 960/0 instead of 13/10.\n",
    "- Retweet data is present. I only want to use original tweets.\n",
    "\n",
    "### Tydiness Issues\n",
    "twitterarchiveenhanced dataframe: \n",
    "- doggo, floofer, pupper, puppo should form one 'Dog_stages' column since this is one variable\n",
    "- column \"text\" has text and text_url present in same column. This should be present in separate columns as: text and text_url\n",
    "\n",
    "\n",
    "#### Conclusion: I found 10 Quality issues and 2 Tydiness issues\n",
    "\n",
    "\n",
    "## 3. Clean\n",
    "\n",
    "I first tried to clean Missing Values, then Tydiness issues and then finally Quality issues. In each case, I first defined the way to clean the issue and then coded the cleaning method. Then I tested if the cleaning worked. Below are some examples of my steps:"
   ]
  },
  {
   "cell_type": "code",
   "execution_count": 8,
   "metadata": {
    "tags": [
     "remove_input_tags",
     "remove_all_outputs_tags"
    ]
   },
   "outputs": [],
   "source": [
    "df_clean = twitterarchiveenhanced.copy()"
   ]
  },
  {
   "cell_type": "markdown",
   "metadata": {},
   "source": [
    "### a) Missing Values\n",
    "I could not fill the Missing values for expanded_urls and column name."
   ]
  },
  {
   "cell_type": "markdown",
   "metadata": {},
   "source": [
    "### b) Tydiness"
   ]
  },
  {
   "cell_type": "markdown",
   "metadata": {},
   "source": [
    "#### doggo, floofer, pupper, puppo should form one 'Dog_stages' column since this is one variable\n",
    "\n",
    "#### Define\n",
    "- Combine the *doggo*, *floofer*, *pupper*, *puppo* columns to a *dog_stage* column\n",
    "\n",
    "#### Code\n",
    "\n",
    "#### Test"
   ]
  },
  {
   "cell_type": "markdown",
   "metadata": {},
   "source": [
    "### c) Quality"
   ]
  },
  {
   "cell_type": "markdown",
   "metadata": {},
   "source": [
    "#### twitterarchiveenhanced dataframe: tweet_id 666287406224695296, has text: This is an Albanian 3 1/2 legged Episcopalian. Loves well-polished hardwood flooring. Penis on the collar. 9/10 https://t.co/d9NcXFKwLv. But the rating is given as 1/2 instead of 9/10.\n",
    "\n",
    "\n",
    "#### Define\n",
    "- Replace the rating for tweet_id 666287406224695296 to 9/10 from 1/2\n",
    "\n",
    "#### Code\n",
    "\n",
    "#### Test"
   ]
  },
  {
   "cell_type": "markdown",
   "metadata": {},
   "source": [
    "#### Conclusion: I was able to clean all the Tydiness issues and all Quality issues successfully. I tested the results of my cleaning and they look correct."
   ]
  },
  {
   "cell_type": "markdown",
   "metadata": {},
   "source": [
    "## 4. Store"
   ]
  },
  {
   "cell_type": "code",
   "execution_count": 9,
   "metadata": {},
   "outputs": [],
   "source": [
    "# Store the clean dataframe in csv file\n",
    "df_clean.to_csv('twitter_archive_master.csv')"
   ]
  },
  {
   "cell_type": "code",
   "execution_count": 10,
   "metadata": {
    "tags": [
     "remove_input_tags",
     "remove_all_outputs_tags"
    ]
   },
   "outputs": [],
   "source": [
    "# jupyter nbconvert wrangle_report.ipynb --TagRemovePreprocessor.remove_input_tags='{\"remove_input_tags\"}' --TagRemovePreprocessor.remove_all_outputs_tags='{\"remove_all_outputs_tags\"}'\n",
    "# Source: https://stackoverflow.com/questions/31517194/how-to-hide-one-specific-cell-input-or-output-in-ipython-notebook"
   ]
  },
  {
   "cell_type": "markdown",
   "metadata": {},
   "source": [
    "#### References:\n",
    "- Udacity Project Overview\n",
    "- https://stackoverflow.com/questions/47889565/reading-json-objects-from-text-file-into-pandas\n",
    "- https://stackoverflow.com/questions/31517194/how-to-hide-one-specific-cell-input-or-output-in-ipython-notebook"
   ]
  }
 ],
 "metadata": {
  "celltoolbar": "Tags",
  "kernelspec": {
   "display_name": "Python 3",
   "language": "python",
   "name": "python3"
  },
  "language_info": {
   "codemirror_mode": {
    "name": "ipython",
    "version": 3
   },
   "file_extension": ".py",
   "mimetype": "text/x-python",
   "name": "python",
   "nbconvert_exporter": "python",
   "pygments_lexer": "ipython3",
   "version": "3.6.3"
  }
 },
 "nbformat": 4,
 "nbformat_minor": 2
}
